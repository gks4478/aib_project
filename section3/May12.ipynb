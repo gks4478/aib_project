{
 "cells": [
  {
   "cell_type": "markdown",
   "id": "5e74a97d",
   "metadata": {},
   "source": [
    "#### 1. 라이브러리 설치: tensorflow, tensorflow-gpu, opencv-python, matplotlib"
   ]
  },
  {
   "cell_type": "markdown",
   "id": "5ac61241",
   "metadata": {},
   "source": [
    "#### 2. 라이브러리 불러오기"
   ]
  },
  {
   "cell_type": "code",
   "execution_count": 1,
   "id": "f07605a7",
   "metadata": {},
   "outputs": [],
   "source": [
    "# 기본\n",
    "import cv2\n",
    "import os\n",
    "import random\n",
    "import numpy as np\n",
    "import matplotlib.pyplot as plt"
   ]
  },
  {
   "cell_type": "code",
   "execution_count": 2,
   "id": "49e159c9",
   "metadata": {},
   "outputs": [],
   "source": [
    "# 텐서플로우 - functionl api\n",
    "from tensorflow.keras.models import Model\n",
    "from tensorflow.keras.layers import Layer, Conv2D, Dense, MaxPooling2D, Input, Flatten\n",
    "import tensorflow as tf"
   ]
  },
  {
   "cell_type": "markdown",
   "id": "fee6ea87",
   "metadata": {},
   "source": [
    "#### 3. GPU 설정하기"
   ]
  },
  {
   "cell_type": "code",
   "execution_count": 3,
   "id": "dfe3477c",
   "metadata": {},
   "outputs": [],
   "source": [
    "gpus= tf.config.experimental.list_physical_devices('GPU')\n",
    "for gpu in gpus:\n",
    "    tf.config.experimental.set_memory_growth(gpu, True)"
   ]
  },
  {
   "cell_type": "markdown",
   "id": "284fa7d3",
   "metadata": {},
   "source": [
    "#### 4. 데이터가 들어갈 경로, 폴더 설정 os"
   ]
  },
  {
   "cell_type": "code",
   "execution_count": 4,
   "id": "383ff069",
   "metadata": {},
   "outputs": [],
   "source": [
    "# 경로 설정\n",
    "POS_PATH= os.path.join('data', 'positive')\n",
    "NEG_PATH= os.path.join('data', 'negative')\n",
    "ANC_PATH= os.path.join('data', 'anchor')"
   ]
  },
  {
   "cell_type": "code",
   "execution_count": 6,
   "id": "61d5984e",
   "metadata": {},
   "outputs": [],
   "source": [
    "# 폴더 설정\n",
    "os.makedirs(POS_PATH)\n",
    "os.makedirs(NEG_PATH)\n",
    "os.makedirs(ANC_PATH)"
   ]
  },
  {
   "cell_type": "markdown",
   "id": "01e5c32e",
   "metadata": {},
   "source": [
    "#### 5. 데이터 수집"
   ]
  },
  {
   "cell_type": "markdown",
   "id": "0191c8c6",
   "metadata": {},
   "source": [
    "##### 1) 데이터 수집(http://vis-www.cs.umass.edu/lfw/#download -> All images as gzipped tar file)"
   ]
  },
  {
   "cell_type": "code",
   "execution_count": 7,
   "id": "dce8e0f1",
   "metadata": {},
   "outputs": [],
   "source": [
    "# tgz 입축풀기 → 현재 노트의 파일로 복사\n",
    "!tar -xf lfw.tgz"
   ]
  },
  {
   "cell_type": "markdown",
   "id": "947332a4",
   "metadata": {},
   "source": [
    "##### 2) 수집한 사진 경로 재지정(negative)"
   ]
  },
  {
   "cell_type": "code",
   "execution_count": 8,
   "id": "f8fd2624",
   "metadata": {},
   "outputs": [],
   "source": [
    "# lfw 이미지 negative 파일로 이동\n",
    "# lfw 각 파일 안의 사진들의 경로를 각 하위로 들어갈 수 있도록 지정.\n",
    "for directory in os.listdir('lfw'):\n",
    "    for file in os.listdir(os.path.join('lfw', directory)):\n",
    "        EX_PATH= os.path.join('lfw', directory, file)\n",
    "        NEW_PATH= os.path.join(NEG_PATH, file)\n",
    "        os.replace(EX_PATH, NEW_PATH)"
   ]
  },
  {
   "cell_type": "markdown",
   "id": "79d11337",
   "metadata": {},
   "source": [
    "##### 3) 내 사진 찍기(positive)"
   ]
  },
  {
   "cell_type": "code",
   "execution_count": 21,
   "id": "dbc60239",
   "metadata": {},
   "outputs": [],
   "source": [
    "# uuid 라이브러리 불러오기\n",
    "import uuid"
   ]
  },
  {
   "cell_type": "code",
   "execution_count": 22,
   "id": "c3d562fd",
   "metadata": {},
   "outputs": [],
   "source": [
    "# 카메라와 연결\n",
    "cap= cv2.VideoCapture(0)\n",
    "while cap.isOpened():\n",
    "    ret, frame= cap.read()\n",
    "    # 카메라 프레임 250 x 250px 으로 수집한 데이터와 동일하게 지정\n",
    "    frame= frame[30:30+250, 250:250+250, :]\n",
    "    \n",
    "    # 키보드 a를 누르면 anchors 사진을 모을 수 있다.\n",
    "    if cv2.waitKey(1) & 0XFF == ord('a'):\n",
    "        # 이미지 이름, 경로 지정\n",
    "        imgname= os.path.join(ANC_PATH, '{}.jpg'.format(uuid.uuid1()))\n",
    "        # anchor 이미지(사진찍기) 생성\n",
    "        cv2.imwrite(imgname, frame)\n",
    "        \n",
    "    # 키보드 p를 누르면 positives 사진을 모을 수 있다.\n",
    "    if cv2.waitKey(1) & 0XFF == ord('p'):\n",
    "        # 이미지 이름, 경로 지정\n",
    "        imgname= os.path.join(POS_PATH, '{}.jpg'.format(uuid.uuid1()))\n",
    "        # anchor 이미지(사진찍기) 생성\n",
    "        cv2.imwrite(imgname, frame)\n",
    "        \n",
    "    # 카메라 화면을 모니터에 띄운다\n",
    "    cv2.imshow('Image Collection', frame)\n",
    "    \n",
    "    # 키보드 q를 누르면 종료한다.\n",
    "    if cv2.waitKey(1) & 0XFF == ord('q'):\n",
    "        break\n",
    "        \n",
    "# 카메라 종료\n",
    "cap.release()\n",
    "cv2.destroyAllWindows()"
   ]
  },
  {
   "cell_type": "markdown",
   "id": "63d80de1",
   "metadata": {},
   "source": [
    "#### 6. 데이터 준비"
   ]
  },
  {
   "cell_type": "markdown",
   "id": "fe6603ee",
   "metadata": {},
   "source": [
    "##### 1) 각 폴더의 사진.jpg(확장자포함) 300장 경로 가져오기"
   ]
  },
  {
   "cell_type": "code",
   "execution_count": 5,
   "id": "0e1f0b90",
   "metadata": {},
   "outputs": [],
   "source": [
    "anchor= tf.data.Dataset.list_files(ANC_PATH+'\\*.jpg').take(300)\n",
    "positive= tf.data.Dataset.list_files(POS_PATH+'\\*.jpg').take(300)\n",
    "negative= tf.data.Dataset.list_files(NEG_PATH+'\\*.jpg').take(300)"
   ]
  },
  {
   "cell_type": "markdown",
   "id": "51aa65ee",
   "metadata": {},
   "source": [
    "##### 2) 전처리: 스케일, 사이즈 조정"
   ]
  },
  {
   "cell_type": "code",
   "execution_count": 53,
   "id": "f05436a4",
   "metadata": {},
   "outputs": [],
   "source": [
    "def preprocess(file_path):\n",
    "    # 사진 주소 불러오기\n",
    "    byte_img = tf.io.read_file(file_path)\n",
    "    # 사진 업로드\n",
    "    img = tf.io.decode_jpeg(byte_img)\n",
    "    # 100x100px로 조정\n",
    "    img = tf.image.resize(img, (100,100))\n",
    "    # 스케일 조정(0~1 사의 값)\n",
    "    img = img / 255.0\n",
    "    # Return image\n",
    "    return img"
   ]
  },
  {
   "cell_type": "markdown",
   "id": "ba8414b1",
   "metadata": {},
   "source": [
    "##### 3) 라벨 생성(positive:1, negative:0) "
   ]
  },
  {
   "cell_type": "markdown",
   "id": "d2e6699b",
   "metadata": {},
   "source": [
    "##### 4) (anchor, positive), (anchor, negative) + 라벨링"
   ]
  },
  {
   "cell_type": "code",
   "execution_count": 8,
   "id": "eae267b5",
   "metadata": {},
   "outputs": [],
   "source": [
    "positives= tf.data.Dataset.zip((anchor, positive, tf.data.Dataset.from_tensor_slices(tf.ones(len(anchor)))))\n",
    "negatives= tf.data.Dataset.zip((anchor, negative, tf.data.Dataset.from_tensor_slices(tf.zeros(len(anchor)))))\n",
    "data= positives.concatenate(negatives) # positives와 negatives를 하나의 배열로 "
   ]
  },
  {
   "cell_type": "markdown",
   "id": "09012d46",
   "metadata": {},
   "source": [
    "##### 5) train, test set 만들기"
   ]
  },
  {
   "cell_type": "code",
   "execution_count": 9,
   "id": "cae9adac",
   "metadata": {},
   "outputs": [],
   "source": [
    "def preprocess_twin(input_img, validation_img, label):\n",
    "    return(preprocess(input_img), preprocess(validation_img), label)"
   ]
  },
  {
   "cell_type": "code",
   "execution_count": 10,
   "id": "eef8bbac",
   "metadata": {},
   "outputs": [],
   "source": [
    "data= data.map(preprocess_twin)\n",
    "data= data.cache()\n",
    "data= data.shuffle(buffer_size= 1024)"
   ]
  },
  {
   "cell_type": "code",
   "execution_count": 11,
   "id": "a81e9cfe",
   "metadata": {},
   "outputs": [],
   "source": [
    "# train data\n",
    "train_data= data.take(round(len(data)*.7))\n",
    "train_data= train_data.batch(16)\n",
    "train_data= train_data.prefetch(8)"
   ]
  },
  {
   "cell_type": "code",
   "execution_count": 12,
   "id": "4374d5c7",
   "metadata": {},
   "outputs": [],
   "source": [
    "# test data\n",
    "test_data= data.skip(round(len(data)*.7))\n",
    "test_data= test_data.take(round(len(data)*.3))\n",
    "test_data= test_data.batch(16)\n",
    "test_data= test_data.prefetch(8)"
   ]
  },
  {
   "cell_type": "markdown",
   "id": "61e87c08",
   "metadata": {},
   "source": [
    "#### 7. 모델 생성"
   ]
  },
  {
   "cell_type": "markdown",
   "id": "798ad4a5",
   "metadata": {},
   "source": [
    "##### 1) embedding 레이어"
   ]
  },
  {
   "cell_type": "code",
   "execution_count": 13,
   "id": "ea7c58fc",
   "metadata": {},
   "outputs": [],
   "source": [
    "def make_embedding():\n",
    "    inp= Input(shape= (105, 105, 3), name= 'input_image')\n",
    "    \n",
    "    # 첫번째 블록\n",
    "    c1= Conv2D(64, (10, 10), activation= 'relu')(inp)\n",
    "    m1= MaxPooling2D(64, (2, 2), padding= 'same')(c1)\n",
    "    \n",
    "    # 두번째 블록\n",
    "    c2= Conv2D(128, (7, 7), activation= 'relu')(m1)\n",
    "    m2= MaxPooling2D(64, (2, 2), padding= 'same')(c2)\n",
    "    \n",
    "    # 세번째 블록\n",
    "    c3= Conv2D(128, (4,4), activation= 'relu')(m2)\n",
    "    m3= MaxPooling2D(64, (2, 2), padding= 'same')(c3)\n",
    "    \n",
    "    # 마지막 블록\n",
    "    c4= Conv2D(256, (4, 4), activation= 'relu')(m3)\n",
    "    f1= Flatten()(c4)\n",
    "    d1= Dense(4096, activation= 'sigmoid')(f1)\n",
    "    \n",
    "    return Model(inputs= [inp], outputs=[d1], name= 'embedding')"
   ]
  },
  {
   "cell_type": "code",
   "execution_count": 14,
   "id": "dce437e6",
   "metadata": {},
   "outputs": [],
   "source": [
    "embedding= make_embedding()"
   ]
  },
  {
   "cell_type": "markdown",
   "id": "c34da42f",
   "metadata": {},
   "source": [
    "##### 2) distance 레이어"
   ]
  },
  {
   "cell_type": "code",
   "execution_count": 15,
   "id": "6da1ff7d",
   "metadata": {},
   "outputs": [],
   "source": [
    "# L1 distance\n",
    "class L1Dist(Layer):\n",
    "    # 상속\n",
    "    def __init__(self, **kwargs):\n",
    "        super().__init__()\n",
    "    # ?\n",
    "    def call(self, input_embedding, validation_embedding):\n",
    "        return tf.math.abs(input_embedding - validation_embedding)"
   ]
  },
  {
   "cell_type": "code",
   "execution_count": 16,
   "id": "114727c2",
   "metadata": {},
   "outputs": [],
   "source": [
    "l1= L1Dist()"
   ]
  },
  {
   "cell_type": "markdown",
   "id": "1ccd3b00",
   "metadata": {},
   "source": [
    "##### 3) siamese 뉴럴 네트워크"
   ]
  },
  {
   "cell_type": "code",
   "execution_count": 17,
   "id": "a849a29e",
   "metadata": {},
   "outputs": [],
   "source": [
    "def make_siamese_model():\n",
    "    \n",
    "    # anchor 이미지 입력\n",
    "    input_image= Input(name= 'input_img', shape= (105, 105, 3))\n",
    "    # validation 이미지 입력\n",
    "    validation_image= Input(name= 'validation_img', shape= (105, 105, 3))\n",
    "    \n",
    "    # 입력값 전달\n",
    "    siamese_layer= L1Dist() # distance\n",
    "    siamese_layer._name= 'distance'\n",
    "    distance= siamese_layer(embedding(input_image), embedding(validation_image)) # embedding\n",
    "    \n",
    "    # output\n",
    "    classifier= Dense(1, activation= 'sigmoid')(distance)\n",
    "    \n",
    "    return Model(inputs= [input_image, validation_image], outputs= classifier, name= 'SiameseNetwork')"
   ]
  },
  {
   "cell_type": "code",
   "execution_count": 18,
   "id": "1c85f5b6",
   "metadata": {},
   "outputs": [],
   "source": [
    "siamese_model= make_siamese_model()"
   ]
  },
  {
   "cell_type": "code",
   "execution_count": 18,
   "id": "16954cc5",
   "metadata": {
    "scrolled": true
   },
   "outputs": [
    {
     "name": "stdout",
     "output_type": "stream",
     "text": [
      "Model: \"SiameseNetwork\"\n",
      "__________________________________________________________________________________________________\n",
      " Layer (type)                   Output Shape         Param #     Connected to                     \n",
      "==================================================================================================\n",
      " input_img (InputLayer)         [(None, 105, 105, 3  0           []                               \n",
      "                                )]                                                                \n",
      "                                                                                                  \n",
      " validation_img (InputLayer)    [(None, 105, 105, 3  0           []                               \n",
      "                                )]                                                                \n",
      "                                                                                                  \n",
      " embedding (Functional)         (None, 4096)         38960448    ['input_img[0][0]',              \n",
      "                                                                  'validation_img[0][0]']         \n",
      "                                                                                                  \n",
      " distance (L1Dist)              (None, 4096)         0           ['embedding[0][0]',              \n",
      "                                                                  'embedding[1][0]']              \n",
      "                                                                                                  \n",
      " dense_1 (Dense)                (None, 1)            4097        ['distance[0][0]']               \n",
      "                                                                                                  \n",
      "==================================================================================================\n",
      "Total params: 38,964,545\n",
      "Trainable params: 38,964,545\n",
      "Non-trainable params: 0\n",
      "__________________________________________________________________________________________________\n"
     ]
    }
   ],
   "source": [
    "siamese_model.summary()"
   ]
  },
  {
   "cell_type": "markdown",
   "id": "a7866231",
   "metadata": {},
   "source": [
    "#### 8. 훈련.."
   ]
  },
  {
   "cell_type": "markdown",
   "id": "18c583cc",
   "metadata": {},
   "source": [
    "##### 1) loss, optimizer 설정"
   ]
  },
  {
   "cell_type": "code",
   "execution_count": 19,
   "id": "e5c42dbb",
   "metadata": {},
   "outputs": [],
   "source": [
    "# loss\n",
    "binary_cross_loss= tf.losses.BinaryCrossentropy()"
   ]
  },
  {
   "cell_type": "code",
   "execution_count": 20,
   "id": "d028842b",
   "metadata": {},
   "outputs": [],
   "source": [
    "# optimizer 0.0001\n",
    "opt= tf.keras.optimizers.Adam(1e-4)"
   ]
  },
  {
   "cell_type": "markdown",
   "id": "1d5b8d7d",
   "metadata": {},
   "source": [
    "##### 2) 체크포인트 설정"
   ]
  },
  {
   "cell_type": "code",
   "execution_count": 21,
   "id": "cecf85c1",
   "metadata": {},
   "outputs": [],
   "source": [
    "checkpoint_dir= './training_checkpoints'\n",
    "checkpoint_prefix= os.path.join(checkpoint_dir, 'ckpt')\n",
    "checkpoint= tf.train.Checkpoint(opt= opt, siamese_model= siamese_model)"
   ]
  },
  {
   "cell_type": "markdown",
   "id": "a7066331",
   "metadata": {},
   "source": [
    "##### 3) train step function"
   ]
  },
  {
   "cell_type": "code",
   "execution_count": 23,
   "id": "908ce619",
   "metadata": {},
   "outputs": [],
   "source": [
    "@tf.function\n",
    "def train_step(batch):\n",
    "    \n",
    "    # 기록\n",
    "    with tf.GradientTape() as tape:\n",
    "        # anchor, positiva/negative 이미지 불러오기\n",
    "        X= batch[:2]\n",
    "        # 라벨 불러오기(0,1)\n",
    "        y= batch[2]\n",
    "        \n",
    "        # forward pass\n",
    "        yhat= siamese_model(X, training= True)\n",
    "        # loss 계산\n",
    "        loss= binary_cross_loss(y, yhat)\n",
    "    print(loss)\n",
    "    \n",
    "    # gradient 계산\n",
    "    grad= tape.gradient(loss, siamese_model.trainable_variables)\n",
    "    \n",
    "    # 모델에 가중치 적용\n",
    "    opt.apply_gradients(zip(grad, siamese_model.trainable_variables))\n",
    "    \n",
    "    return loss"
   ]
  },
  {
   "cell_type": "markdown",
   "id": "098efb18",
   "metadata": {},
   "source": [
    "##### 4) 훈련 함수 생성"
   ]
  },
  {
   "cell_type": "code",
   "execution_count": 24,
   "id": "196bf041",
   "metadata": {},
   "outputs": [],
   "source": [
    "def train(data, EPOCHS):\n",
    "    # epochs 반복\n",
    "    for epoch in range(1, EPOCHS+1):\n",
    "        print('\\n Epoch {}/{}'.format(epoch, EPOCHS))\n",
    "        progbar= tf.keras.utils.Progbar(len(data))\n",
    "        \n",
    "        # batch 반복\n",
    "        for idx, batch in enumerate(data):\n",
    "            # run\n",
    "            train_step(batch)\n",
    "            progbar.update(idx+1)\n",
    "        \n",
    "        # 체크포인트\n",
    "        if epoch % 10 == 0:\n",
    "            checkpoint.save(file_prefix= checkpoint_prefix)"
   ]
  },
  {
   "cell_type": "markdown",
   "id": "634afd50",
   "metadata": {},
   "source": [
    "##### 5) 모델 훈련"
   ]
  },
  {
   "cell_type": "code",
   "execution_count": 25,
   "id": "7b1503d1",
   "metadata": {},
   "outputs": [],
   "source": [
    "EPOCHS= 50"
   ]
  },
  {
   "cell_type": "code",
   "execution_count": 26,
   "id": "6f770bab",
   "metadata": {},
   "outputs": [
    {
     "name": "stdout",
     "output_type": "stream",
     "text": [
      "\n",
      " Epoch 1/50\n",
      "Tensor(\"binary_crossentropy/weighted_loss/value:0\", shape=(), dtype=float32)\n",
      "Tensor(\"binary_crossentropy/weighted_loss/value:0\", shape=(), dtype=float32)\n",
      "26/27 [===========================>..] - ETA: 2sTensor(\"binary_crossentropy/weighted_loss/value:0\", shape=(), dtype=float32)\n",
      "27/27 [==============================] - 66s 2s/step\n",
      "\n",
      " Epoch 2/50\n",
      "27/27 [==============================] - 54s 2s/step\n",
      "\n",
      " Epoch 3/50\n",
      "27/27 [==============================] - 55s 2s/step\n",
      "\n",
      " Epoch 4/50\n",
      "27/27 [==============================] - 56s 2s/step\n",
      "\n",
      " Epoch 5/50\n",
      "27/27 [==============================] - 55s 2s/step\n",
      "\n",
      " Epoch 6/50\n",
      "27/27 [==============================] - 55s 2s/step\n",
      "\n",
      " Epoch 7/50\n",
      "27/27 [==============================] - 55s 2s/step\n",
      "\n",
      " Epoch 8/50\n",
      "27/27 [==============================] - 55s 2s/step\n",
      "\n",
      " Epoch 9/50\n",
      "27/27 [==============================] - 55s 2s/step\n",
      "\n",
      " Epoch 10/50\n",
      "27/27 [==============================] - 54s 2s/step\n",
      "\n",
      " Epoch 11/50\n",
      "27/27 [==============================] - 54s 2s/step\n",
      "\n",
      " Epoch 12/50\n",
      "27/27 [==============================] - 54s 2s/step\n",
      "\n",
      " Epoch 13/50\n",
      "27/27 [==============================] - 55s 2s/step\n",
      "\n",
      " Epoch 14/50\n",
      "27/27 [==============================] - 55s 2s/step\n",
      "\n",
      " Epoch 15/50\n",
      "27/27 [==============================] - 55s 2s/step\n",
      "\n",
      " Epoch 16/50\n",
      "27/27 [==============================] - 55s 2s/step\n",
      "\n",
      " Epoch 17/50\n",
      "27/27 [==============================] - 55s 2s/step\n",
      "\n",
      " Epoch 18/50\n",
      "27/27 [==============================] - 55s 2s/step\n",
      "\n",
      " Epoch 19/50\n",
      "27/27 [==============================] - 55s 2s/step\n",
      "\n",
      " Epoch 20/50\n",
      "27/27 [==============================] - 55s 2s/step\n",
      "\n",
      " Epoch 21/50\n",
      "27/27 [==============================] - 54s 2s/step\n",
      "\n",
      " Epoch 22/50\n",
      "27/27 [==============================] - 55s 2s/step\n",
      "\n",
      " Epoch 23/50\n",
      "27/27 [==============================] - 55s 2s/step\n",
      "\n",
      " Epoch 24/50\n",
      "27/27 [==============================] - 55s 2s/step\n",
      "\n",
      " Epoch 25/50\n",
      "27/27 [==============================] - 55s 2s/step\n",
      "\n",
      " Epoch 26/50\n",
      "27/27 [==============================] - 55s 2s/step\n",
      "\n",
      " Epoch 27/50\n",
      "27/27 [==============================] - 55s 2s/step\n",
      "\n",
      " Epoch 28/50\n",
      "27/27 [==============================] - 55s 2s/step\n",
      "\n",
      " Epoch 29/50\n",
      "27/27 [==============================] - 55s 2s/step\n",
      "\n",
      " Epoch 30/50\n",
      "27/27 [==============================] - 55s 2s/step\n",
      "\n",
      " Epoch 31/50\n",
      "27/27 [==============================] - 54s 2s/step\n",
      "\n",
      " Epoch 32/50\n",
      "27/27 [==============================] - 55s 2s/step\n",
      "\n",
      " Epoch 33/50\n",
      "27/27 [==============================] - 55s 2s/step\n",
      "\n",
      " Epoch 34/50\n",
      "27/27 [==============================] - 55s 2s/step\n",
      "\n",
      " Epoch 35/50\n",
      "27/27 [==============================] - 55s 2s/step\n",
      "\n",
      " Epoch 36/50\n",
      "27/27 [==============================] - 55s 2s/step\n",
      "\n",
      " Epoch 37/50\n",
      "27/27 [==============================] - 56s 2s/step\n",
      "\n",
      " Epoch 38/50\n",
      "27/27 [==============================] - 55s 2s/step\n",
      "\n",
      " Epoch 39/50\n",
      "27/27 [==============================] - 55s 2s/step\n",
      "\n",
      " Epoch 40/50\n",
      "27/27 [==============================] - 55s 2s/step\n",
      "\n",
      " Epoch 41/50\n",
      "27/27 [==============================] - 54s 2s/step\n",
      "\n",
      " Epoch 42/50\n",
      "27/27 [==============================] - 55s 2s/step\n",
      "\n",
      " Epoch 43/50\n",
      "27/27 [==============================] - 55s 2s/step\n",
      "\n",
      " Epoch 44/50\n",
      "27/27 [==============================] - 55s 2s/step\n",
      "\n",
      " Epoch 45/50\n",
      "27/27 [==============================] - 55s 2s/step\n",
      "\n",
      " Epoch 46/50\n",
      "27/27 [==============================] - 55s 2s/step\n",
      "\n",
      " Epoch 47/50\n",
      "27/27 [==============================] - 55s 2s/step\n",
      "\n",
      " Epoch 48/50\n",
      "27/27 [==============================] - 55s 2s/step\n",
      "\n",
      " Epoch 49/50\n",
      "27/27 [==============================] - 55s 2s/step\n",
      "\n",
      " Epoch 50/50\n",
      "27/27 [==============================] - 55s 2s/step\n"
     ]
    }
   ],
   "source": [
    "train(train_data, EPOCHS)"
   ]
  },
  {
   "cell_type": "markdown",
   "id": "a4ef48c1",
   "metadata": {},
   "source": [
    "#### 9. 모델 평가"
   ]
  },
  {
   "cell_type": "code",
   "execution_count": 27,
   "id": "5698959d",
   "metadata": {},
   "outputs": [],
   "source": [
    "from tensorflow.keras.metrics import Precision, Recall"
   ]
  },
  {
   "cell_type": "code",
   "execution_count": 28,
   "id": "287a1ae3",
   "metadata": {},
   "outputs": [],
   "source": [
    "test_input, test_val, y_true= test_data.as_numpy_iterator().next()"
   ]
  },
  {
   "cell_type": "code",
   "execution_count": 29,
   "id": "1fd82e71",
   "metadata": {},
   "outputs": [
    {
     "name": "stdout",
     "output_type": "stream",
     "text": [
      "1/1 [==============================] - 0s 240ms/step\n"
     ]
    },
    {
     "data": {
      "text/plain": [
       "array([[9.9994862e-01],\n",
       "       [1.0000000e+00],\n",
       "       [9.9979919e-01],\n",
       "       [1.0000000e+00],\n",
       "       [3.1617617e-10],\n",
       "       [8.2528784e-10],\n",
       "       [9.9890327e-01],\n",
       "       [2.8101536e-05],\n",
       "       [9.9996042e-01],\n",
       "       [3.8849133e-09],\n",
       "       [1.1258986e-08],\n",
       "       [6.8303241e-10],\n",
       "       [9.9987388e-01],\n",
       "       [9.9999976e-01],\n",
       "       [7.4503559e-09],\n",
       "       [5.9898958e-10]], dtype=float32)"
      ]
     },
     "execution_count": 29,
     "metadata": {},
     "output_type": "execute_result"
    }
   ],
   "source": [
    "# prediction\n",
    "predictions= siamese_model.predict([test_input, test_val])\n",
    "predictions"
   ]
  },
  {
   "cell_type": "code",
   "execution_count": 30,
   "id": "426d977b",
   "metadata": {},
   "outputs": [
    {
     "data": {
      "text/plain": [
       "[1, 1, 1, 1, 0, 0, 1, 0, 1, 0, 0, 0, 1, 1, 0, 0]"
      ]
     },
     "execution_count": 30,
     "metadata": {},
     "output_type": "execute_result"
    }
   ],
   "source": [
    "# 0.5 이상이면 1\n",
    "[1 if prediction>0.5 else 0 for prediction in predictions]"
   ]
  },
  {
   "cell_type": "code",
   "execution_count": 31,
   "id": "0277fd02",
   "metadata": {},
   "outputs": [
    {
     "data": {
      "text/plain": [
       "array([1., 1., 1., 1., 0., 0., 1., 0., 1., 0., 0., 0., 1., 1., 0., 0.],\n",
       "      dtype=float32)"
      ]
     },
     "execution_count": 31,
     "metadata": {},
     "output_type": "execute_result"
    }
   ],
   "source": [
    "y_true"
   ]
  },
  {
   "cell_type": "code",
   "execution_count": 32,
   "id": "7c7f227d",
   "metadata": {
    "scrolled": true
   },
   "outputs": [
    {
     "data": {
      "text/plain": [
       "1.0"
      ]
     },
     "execution_count": 32,
     "metadata": {},
     "output_type": "execute_result"
    }
   ],
   "source": [
    "# recall 평가\n",
    "m= Recall()\n",
    "m.update_state(y_true, predictions)\n",
    "m.result().numpy()"
   ]
  },
  {
   "cell_type": "code",
   "execution_count": 33,
   "id": "d73c42c9",
   "metadata": {},
   "outputs": [
    {
     "data": {
      "text/plain": [
       "1.0"
      ]
     },
     "execution_count": 33,
     "metadata": {},
     "output_type": "execute_result"
    }
   ],
   "source": [
    "# Precision 평가\n",
    "m= Precision()\n",
    "m.update_state(y_true, predictions)\n",
    "m.result().numpy()"
   ]
  },
  {
   "cell_type": "markdown",
   "id": "10f91536",
   "metadata": {},
   "source": [
    "#### 10. 모델저장.h5"
   ]
  },
  {
   "cell_type": "code",
   "execution_count": 34,
   "id": "82f57231",
   "metadata": {},
   "outputs": [
    {
     "name": "stdout",
     "output_type": "stream",
     "text": [
      "WARNING:tensorflow:Compiled the loaded model, but the compiled metrics have yet to be built. `model.compile_metrics` will be empty until you train or evaluate the model.\n"
     ]
    }
   ],
   "source": [
    "siamese_model.save('siamesemodel.h5')"
   ]
  },
  {
   "cell_type": "code",
   "execution_count": 35,
   "id": "8b8274b4",
   "metadata": {},
   "outputs": [
    {
     "name": "stdout",
     "output_type": "stream",
     "text": [
      "WARNING:tensorflow:No training configuration found in the save file, so the model was *not* compiled. Compile it manually.\n"
     ]
    }
   ],
   "source": [
    "model= tf.keras.models.load_model('siamesemodel.h5', \n",
    "                                 custom_objects= {'L1Dist':L1Dist, 'BinaryCrossentropy':tf.losses.BinaryCrossentropy})"
   ]
  },
  {
   "cell_type": "code",
   "execution_count": 36,
   "id": "4d0eb9e3",
   "metadata": {},
   "outputs": [
    {
     "name": "stdout",
     "output_type": "stream",
     "text": [
      "1/1 [==============================] - 0s 126ms/step\n"
     ]
    },
    {
     "data": {
      "text/plain": [
       "array([[9.9994862e-01],\n",
       "       [1.0000000e+00],\n",
       "       [9.9979919e-01],\n",
       "       [1.0000000e+00],\n",
       "       [3.1617617e-10],\n",
       "       [8.2528784e-10],\n",
       "       [9.9890327e-01],\n",
       "       [2.8101536e-05],\n",
       "       [9.9996042e-01],\n",
       "       [3.8849133e-09],\n",
       "       [1.1258986e-08],\n",
       "       [6.8303241e-10],\n",
       "       [9.9987388e-01],\n",
       "       [9.9999976e-01],\n",
       "       [7.4503559e-09],\n",
       "       [5.9898958e-10]], dtype=float32)"
      ]
     },
     "execution_count": 36,
     "metadata": {},
     "output_type": "execute_result"
    }
   ],
   "source": [
    "model.predict([test_input, test_val])"
   ]
  },
  {
   "cell_type": "code",
   "execution_count": 37,
   "id": "50cb60fb",
   "metadata": {
    "scrolled": true
   },
   "outputs": [
    {
     "name": "stdout",
     "output_type": "stream",
     "text": [
      "Model: \"SiameseNetwork\"\n",
      "__________________________________________________________________________________________________\n",
      " Layer (type)                   Output Shape         Param #     Connected to                     \n",
      "==================================================================================================\n",
      " input_img (InputLayer)         [(None, 105, 105, 3  0           []                               \n",
      "                                )]                                                                \n",
      "                                                                                                  \n",
      " validation_img (InputLayer)    [(None, 105, 105, 3  0           []                               \n",
      "                                )]                                                                \n",
      "                                                                                                  \n",
      " embedding (Functional)         (None, 4096)         38960448    ['input_img[0][0]',              \n",
      "                                                                  'validation_img[0][0]']         \n",
      "                                                                                                  \n",
      " l1_dist_2 (L1Dist)             (None, 4096)         0           ['embedding[0][0]',              \n",
      "                                                                  'embedding[1][0]']              \n",
      "                                                                                                  \n",
      " dense_1 (Dense)                (None, 1)            4097        ['l1_dist_2[0][0]']              \n",
      "                                                                                                  \n",
      "==================================================================================================\n",
      "Total params: 38,964,545\n",
      "Trainable params: 38,964,545\n",
      "Non-trainable params: 0\n",
      "__________________________________________________________________________________________________\n"
     ]
    }
   ],
   "source": [
    "model.summary()"
   ]
  },
  {
   "cell_type": "markdown",
   "id": "525654e0",
   "metadata": {},
   "source": [
    "#### 11. 최종 테스트"
   ]
  },
  {
   "cell_type": "code",
   "execution_count": 52,
   "id": "6738a243",
   "metadata": {},
   "outputs": [],
   "source": [
    "def verify(model, detection_threshold, verification_threshold):\n",
    "    # Build results array\n",
    "    results = []\n",
    "    for image in os.listdir(os.path.join('application_data', 'verification_images')):\n",
    "        input_img = preprocess(os.path.join('application_data', 'input_image', 'input_image.jpg'))\n",
    "        validation_img = preprocess(os.path.join('application_data', 'verification_images', image))\n",
    "        \n",
    "        # prediction \n",
    "        result = model.predict(list(np.expand_dims([input_img, validation_img], axis=1)))\n",
    "        results.append(result)\n",
    "    \n",
    "    #detection_threshold: positive로 예측한 metrics\n",
    "    detection = np.sum(np.array(results) > detection_threshold)\n",
    "    \n",
    "    #verification_threshold: positive로 예측한 비율 / positive 이미지 개수\n",
    "    verification = detection / len(os.listdir(os.path.join('application_data', 'verification_images'))) \n",
    "    verified = verification > verification_threshold\n",
    "    \n",
    "    return results, verified"
   ]
  },
  {
   "cell_type": "code",
   "execution_count": 54,
   "id": "a5556183",
   "metadata": {
    "scrolled": true
   },
   "outputs": [
    {
     "name": "stdout",
     "output_type": "stream",
     "text": [
      "1/1 [==============================] - 1s 665ms/step\n",
      "1/1 [==============================] - 0s 25ms/step\n",
      "1/1 [==============================] - 0s 23ms/step\n",
      "1/1 [==============================] - 0s 24ms/step\n",
      "1/1 [==============================] - 0s 24ms/step\n",
      "1/1 [==============================] - 0s 24ms/step\n",
      "1/1 [==============================] - 0s 25ms/step\n",
      "1/1 [==============================] - 0s 23ms/step\n",
      "1/1 [==============================] - 0s 26ms/step\n",
      "1/1 [==============================] - 0s 24ms/step\n",
      "1/1 [==============================] - 0s 24ms/step\n",
      "1/1 [==============================] - 0s 24ms/step\n",
      "1/1 [==============================] - 0s 25ms/step\n",
      "1/1 [==============================] - 0s 26ms/step\n",
      "1/1 [==============================] - 0s 24ms/step\n",
      "1/1 [==============================] - 0s 24ms/step\n",
      "1/1 [==============================] - 0s 23ms/step\n",
      "1/1 [==============================] - 0s 23ms/step\n",
      "1/1 [==============================] - 0s 23ms/step\n",
      "1/1 [==============================] - 0s 23ms/step\n",
      "1/1 [==============================] - 0s 23ms/step\n",
      "1/1 [==============================] - 0s 24ms/step\n",
      "1/1 [==============================] - 0s 24ms/step\n",
      "1/1 [==============================] - 0s 25ms/step\n",
      "1/1 [==============================] - 0s 24ms/step\n",
      "1/1 [==============================] - 0s 24ms/step\n",
      "1/1 [==============================] - 0s 23ms/step\n",
      "1/1 [==============================] - 0s 26ms/step\n",
      "1/1 [==============================] - 0s 24ms/step\n",
      "1/1 [==============================] - 0s 26ms/step\n",
      "1/1 [==============================] - 0s 23ms/step\n",
      "1/1 [==============================] - 0s 22ms/step\n",
      "1/1 [==============================] - 0s 27ms/step\n",
      "1/1 [==============================] - 0s 24ms/step\n",
      "1/1 [==============================] - 0s 23ms/step\n",
      "1/1 [==============================] - 0s 24ms/step\n",
      "1/1 [==============================] - 0s 23ms/step\n",
      "1/1 [==============================] - 0s 23ms/step\n",
      "1/1 [==============================] - 0s 24ms/step\n",
      "1/1 [==============================] - 0s 23ms/step\n",
      "1/1 [==============================] - 0s 24ms/step\n",
      "1/1 [==============================] - 0s 23ms/step\n",
      "1/1 [==============================] - 0s 22ms/step\n",
      "1/1 [==============================] - 0s 23ms/step\n",
      "1/1 [==============================] - 0s 23ms/step\n",
      "1/1 [==============================] - 0s 24ms/step\n",
      "1/1 [==============================] - 0s 23ms/step\n",
      "1/1 [==============================] - 0s 25ms/step\n",
      "1/1 [==============================] - 0s 23ms/step\n",
      "1/1 [==============================] - 0s 24ms/step\n",
      "True\n",
      "1/1 [==============================] - 0s 25ms/step\n",
      "1/1 [==============================] - 0s 23ms/step\n",
      "1/1 [==============================] - 0s 23ms/step\n",
      "1/1 [==============================] - 0s 24ms/step\n",
      "1/1 [==============================] - 0s 23ms/step\n",
      "1/1 [==============================] - 0s 23ms/step\n",
      "1/1 [==============================] - 0s 23ms/step\n",
      "1/1 [==============================] - 0s 23ms/step\n",
      "1/1 [==============================] - 0s 24ms/step\n",
      "1/1 [==============================] - 0s 24ms/step\n",
      "1/1 [==============================] - 0s 23ms/step\n",
      "1/1 [==============================] - 0s 23ms/step\n",
      "1/1 [==============================] - 0s 23ms/step\n",
      "1/1 [==============================] - 0s 23ms/step\n",
      "1/1 [==============================] - 0s 24ms/step\n",
      "1/1 [==============================] - 0s 23ms/step\n",
      "1/1 [==============================] - 0s 23ms/step\n",
      "1/1 [==============================] - 0s 26ms/step\n",
      "1/1 [==============================] - 0s 23ms/step\n",
      "1/1 [==============================] - 0s 23ms/step\n",
      "1/1 [==============================] - 0s 22ms/step\n",
      "1/1 [==============================] - 0s 25ms/step\n",
      "1/1 [==============================] - 0s 23ms/step\n",
      "1/1 [==============================] - 0s 23ms/step\n",
      "1/1 [==============================] - 0s 24ms/step\n",
      "1/1 [==============================] - 0s 24ms/step\n",
      "1/1 [==============================] - 0s 23ms/step\n",
      "1/1 [==============================] - 0s 24ms/step\n",
      "1/1 [==============================] - 0s 24ms/step\n",
      "1/1 [==============================] - 0s 28ms/step\n",
      "1/1 [==============================] - 0s 24ms/step\n",
      "1/1 [==============================] - 0s 25ms/step\n",
      "1/1 [==============================] - 0s 23ms/step\n",
      "1/1 [==============================] - 0s 25ms/step\n",
      "1/1 [==============================] - 0s 25ms/step\n",
      "1/1 [==============================] - 0s 23ms/step\n",
      "1/1 [==============================] - 0s 23ms/step\n",
      "1/1 [==============================] - 0s 24ms/step\n",
      "1/1 [==============================] - 0s 24ms/step\n",
      "1/1 [==============================] - 0s 23ms/step\n",
      "1/1 [==============================] - 0s 22ms/step\n",
      "1/1 [==============================] - 0s 32ms/step\n",
      "1/1 [==============================] - 0s 23ms/step\n",
      "1/1 [==============================] - 0s 25ms/step\n",
      "1/1 [==============================] - 0s 25ms/step\n",
      "1/1 [==============================] - 0s 23ms/step\n",
      "1/1 [==============================] - 0s 26ms/step\n",
      "1/1 [==============================] - 0s 25ms/step\n",
      "1/1 [==============================] - 0s 25ms/step\n",
      "1/1 [==============================] - 0s 23ms/step\n",
      "True\n",
      "1/1 [==============================] - 0s 23ms/step\n",
      "1/1 [==============================] - 0s 24ms/step\n",
      "1/1 [==============================] - 0s 23ms/step\n",
      "1/1 [==============================] - 0s 23ms/step\n",
      "1/1 [==============================] - 0s 23ms/step\n",
      "1/1 [==============================] - 0s 23ms/step\n",
      "1/1 [==============================] - 0s 22ms/step\n",
      "1/1 [==============================] - 0s 23ms/step\n",
      "1/1 [==============================] - 0s 23ms/step\n",
      "1/1 [==============================] - 0s 24ms/step\n",
      "1/1 [==============================] - 0s 24ms/step\n",
      "1/1 [==============================] - 0s 23ms/step\n",
      "1/1 [==============================] - 0s 23ms/step\n",
      "1/1 [==============================] - 0s 23ms/step\n",
      "1/1 [==============================] - 0s 24ms/step\n",
      "1/1 [==============================] - 0s 23ms/step\n",
      "1/1 [==============================] - 0s 23ms/step\n",
      "1/1 [==============================] - 0s 23ms/step\n",
      "1/1 [==============================] - 0s 23ms/step\n",
      "1/1 [==============================] - 0s 23ms/step\n",
      "1/1 [==============================] - 0s 23ms/step\n",
      "1/1 [==============================] - 0s 24ms/step\n",
      "1/1 [==============================] - 0s 24ms/step\n",
      "1/1 [==============================] - 0s 24ms/step\n",
      "1/1 [==============================] - 0s 36ms/step\n",
      "1/1 [==============================] - 0s 24ms/step\n",
      "1/1 [==============================] - 0s 25ms/step\n",
      "1/1 [==============================] - 0s 23ms/step\n",
      "1/1 [==============================] - 0s 23ms/step\n",
      "1/1 [==============================] - 0s 23ms/step\n",
      "1/1 [==============================] - 0s 22ms/step\n",
      "1/1 [==============================] - 0s 25ms/step\n",
      "1/1 [==============================] - 0s 23ms/step\n",
      "1/1 [==============================] - 0s 24ms/step\n",
      "1/1 [==============================] - 0s 23ms/step\n",
      "1/1 [==============================] - 0s 23ms/step\n",
      "1/1 [==============================] - 0s 25ms/step\n",
      "1/1 [==============================] - 0s 23ms/step\n",
      "1/1 [==============================] - 0s 24ms/step\n",
      "1/1 [==============================] - 0s 23ms/step\n",
      "1/1 [==============================] - 0s 24ms/step\n",
      "1/1 [==============================] - 0s 23ms/step\n",
      "1/1 [==============================] - 0s 23ms/step\n",
      "1/1 [==============================] - 0s 22ms/step\n",
      "1/1 [==============================] - 0s 23ms/step\n",
      "1/1 [==============================] - 0s 24ms/step\n",
      "1/1 [==============================] - 0s 26ms/step\n",
      "1/1 [==============================] - 0s 27ms/step\n",
      "1/1 [==============================] - 0s 23ms/step\n",
      "1/1 [==============================] - 0s 23ms/step\n",
      "False\n",
      "1/1 [==============================] - 0s 23ms/step\n",
      "1/1 [==============================] - 0s 22ms/step\n",
      "1/1 [==============================] - 0s 24ms/step\n",
      "1/1 [==============================] - 0s 25ms/step\n",
      "1/1 [==============================] - 0s 24ms/step\n",
      "1/1 [==============================] - 0s 23ms/step\n",
      "1/1 [==============================] - 0s 23ms/step\n",
      "1/1 [==============================] - 0s 26ms/step\n",
      "1/1 [==============================] - 0s 23ms/step\n",
      "1/1 [==============================] - 0s 24ms/step\n",
      "1/1 [==============================] - 0s 22ms/step\n",
      "1/1 [==============================] - 0s 23ms/step\n",
      "1/1 [==============================] - 0s 23ms/step\n",
      "1/1 [==============================] - 0s 23ms/step\n",
      "1/1 [==============================] - 0s 23ms/step\n",
      "1/1 [==============================] - 0s 23ms/step\n",
      "1/1 [==============================] - 0s 22ms/step\n",
      "1/1 [==============================] - 0s 23ms/step\n",
      "1/1 [==============================] - 0s 23ms/step\n",
      "1/1 [==============================] - 0s 22ms/step\n",
      "1/1 [==============================] - 0s 22ms/step\n",
      "1/1 [==============================] - 0s 25ms/step\n",
      "1/1 [==============================] - 0s 23ms/step\n",
      "1/1 [==============================] - 0s 27ms/step\n",
      "1/1 [==============================] - 0s 25ms/step\n",
      "1/1 [==============================] - 0s 23ms/step\n",
      "1/1 [==============================] - 0s 22ms/step\n",
      "1/1 [==============================] - 0s 27ms/step\n",
      "1/1 [==============================] - 0s 24ms/step\n",
      "1/1 [==============================] - 0s 23ms/step\n",
      "1/1 [==============================] - 0s 22ms/step\n",
      "1/1 [==============================] - 0s 25ms/step\n",
      "1/1 [==============================] - 0s 28ms/step\n",
      "1/1 [==============================] - 0s 23ms/step\n",
      "1/1 [==============================] - 0s 23ms/step\n",
      "1/1 [==============================] - 0s 24ms/step\n",
      "1/1 [==============================] - 0s 24ms/step\n",
      "1/1 [==============================] - 0s 24ms/step\n",
      "1/1 [==============================] - 0s 22ms/step\n",
      "1/1 [==============================] - 0s 26ms/step\n",
      "1/1 [==============================] - 0s 25ms/step\n",
      "1/1 [==============================] - 0s 24ms/step\n",
      "1/1 [==============================] - 0s 24ms/step\n",
      "1/1 [==============================] - 0s 25ms/step\n",
      "1/1 [==============================] - 0s 25ms/step\n",
      "1/1 [==============================] - 0s 22ms/step\n",
      "1/1 [==============================] - 0s 24ms/step\n",
      "1/1 [==============================] - 0s 25ms/step\n",
      "1/1 [==============================] - 0s 28ms/step\n",
      "1/1 [==============================] - 0s 24ms/step\n",
      "False\n",
      "1/1 [==============================] - 0s 25ms/step\n",
      "1/1 [==============================] - 0s 26ms/step\n",
      "1/1 [==============================] - 0s 24ms/step\n",
      "1/1 [==============================] - 0s 23ms/step\n",
      "1/1 [==============================] - 0s 23ms/step\n",
      "1/1 [==============================] - 0s 23ms/step\n",
      "1/1 [==============================] - 0s 24ms/step\n",
      "1/1 [==============================] - 0s 24ms/step\n",
      "1/1 [==============================] - 0s 22ms/step\n",
      "1/1 [==============================] - 0s 22ms/step\n",
      "1/1 [==============================] - 0s 24ms/step\n",
      "1/1 [==============================] - 0s 23ms/step\n",
      "1/1 [==============================] - 0s 25ms/step\n",
      "1/1 [==============================] - 0s 24ms/step\n",
      "1/1 [==============================] - 0s 24ms/step\n",
      "1/1 [==============================] - 0s 23ms/step\n",
      "1/1 [==============================] - 0s 24ms/step\n",
      "1/1 [==============================] - 0s 24ms/step\n",
      "1/1 [==============================] - 0s 23ms/step\n",
      "1/1 [==============================] - 0s 23ms/step\n",
      "1/1 [==============================] - 0s 26ms/step\n",
      "1/1 [==============================] - 0s 25ms/step\n",
      "1/1 [==============================] - 0s 23ms/step\n",
      "1/1 [==============================] - 0s 23ms/step\n",
      "1/1 [==============================] - 0s 23ms/step\n",
      "1/1 [==============================] - 0s 23ms/step\n",
      "1/1 [==============================] - 0s 24ms/step\n",
      "1/1 [==============================] - 0s 24ms/step\n",
      "1/1 [==============================] - 0s 23ms/step\n",
      "1/1 [==============================] - 0s 24ms/step\n",
      "1/1 [==============================] - 0s 23ms/step\n",
      "1/1 [==============================] - 0s 24ms/step\n",
      "1/1 [==============================] - 0s 24ms/step\n",
      "1/1 [==============================] - 0s 23ms/step\n",
      "1/1 [==============================] - 0s 24ms/step\n",
      "1/1 [==============================] - 0s 23ms/step\n",
      "1/1 [==============================] - 0s 25ms/step\n",
      "1/1 [==============================] - 0s 24ms/step\n",
      "1/1 [==============================] - 0s 24ms/step\n",
      "1/1 [==============================] - 0s 24ms/step\n",
      "1/1 [==============================] - 0s 22ms/step\n",
      "1/1 [==============================] - 0s 24ms/step\n",
      "1/1 [==============================] - 0s 24ms/step\n",
      "1/1 [==============================] - 0s 23ms/step\n",
      "1/1 [==============================] - 0s 24ms/step\n",
      "1/1 [==============================] - 0s 25ms/step\n",
      "1/1 [==============================] - 0s 23ms/step\n",
      "1/1 [==============================] - 0s 24ms/step\n",
      "1/1 [==============================] - 0s 24ms/step\n",
      "1/1 [==============================] - 0s 23ms/step\n",
      "False\n",
      "1/1 [==============================] - 0s 24ms/step\n",
      "1/1 [==============================] - 0s 23ms/step\n",
      "1/1 [==============================] - 0s 23ms/step\n",
      "1/1 [==============================] - 0s 22ms/step\n",
      "1/1 [==============================] - 0s 26ms/step\n",
      "1/1 [==============================] - 0s 23ms/step\n",
      "1/1 [==============================] - 0s 25ms/step\n",
      "1/1 [==============================] - 0s 24ms/step\n",
      "1/1 [==============================] - 0s 23ms/step\n",
      "1/1 [==============================] - 0s 22ms/step\n",
      "1/1 [==============================] - 0s 23ms/step\n",
      "1/1 [==============================] - 0s 23ms/step\n",
      "1/1 [==============================] - 0s 24ms/step\n",
      "1/1 [==============================] - 0s 24ms/step\n",
      "1/1 [==============================] - 0s 25ms/step\n",
      "1/1 [==============================] - 0s 22ms/step\n",
      "1/1 [==============================] - 0s 24ms/step\n",
      "1/1 [==============================] - 0s 22ms/step\n",
      "1/1 [==============================] - 0s 23ms/step\n",
      "1/1 [==============================] - 0s 23ms/step\n",
      "1/1 [==============================] - 0s 23ms/step\n",
      "1/1 [==============================] - 0s 27ms/step\n",
      "1/1 [==============================] - 0s 24ms/step\n",
      "1/1 [==============================] - 0s 23ms/step\n",
      "1/1 [==============================] - 0s 24ms/step\n",
      "1/1 [==============================] - 0s 24ms/step\n",
      "1/1 [==============================] - 0s 22ms/step\n",
      "1/1 [==============================] - 0s 23ms/step\n",
      "1/1 [==============================] - 0s 24ms/step\n",
      "1/1 [==============================] - 0s 25ms/step\n",
      "1/1 [==============================] - 0s 23ms/step\n",
      "1/1 [==============================] - 0s 23ms/step\n",
      "1/1 [==============================] - 0s 24ms/step\n",
      "1/1 [==============================] - 0s 24ms/step\n",
      "1/1 [==============================] - 0s 25ms/step\n",
      "1/1 [==============================] - 0s 23ms/step\n",
      "1/1 [==============================] - 0s 23ms/step\n",
      "1/1 [==============================] - 0s 23ms/step\n",
      "1/1 [==============================] - 0s 25ms/step\n",
      "1/1 [==============================] - 0s 24ms/step\n",
      "1/1 [==============================] - 0s 24ms/step\n",
      "1/1 [==============================] - 0s 24ms/step\n",
      "1/1 [==============================] - 0s 24ms/step\n",
      "1/1 [==============================] - 0s 23ms/step\n",
      "1/1 [==============================] - 0s 23ms/step\n",
      "1/1 [==============================] - 0s 23ms/step\n",
      "1/1 [==============================] - 0s 23ms/step\n",
      "1/1 [==============================] - 0s 25ms/step\n",
      "1/1 [==============================] - 0s 24ms/step\n",
      "1/1 [==============================] - 0s 24ms/step\n",
      "True\n"
     ]
    }
   ],
   "source": [
    "cap = cv2.VideoCapture(0)\n",
    "while cap.isOpened():\n",
    "    ret, frame = cap.read()\n",
    "    frame= frame[30:30+250, 250:250+250, :]\n",
    "    \n",
    "    cv2.imshow('Verification', frame)\n",
    "    \n",
    "    # v 눌러서 확인 \n",
    "    if cv2.waitKey(10) & 0xFF == ord('v'):\n",
    "        # 해당 경로에 v로 찍은 사진 저장\n",
    "        cv2.imwrite(os.path.join('application_data', 'input_image', 'input_image.jpg'), frame)\n",
    "        # True or False 출력\n",
    "        results, verified = verify(model, 0.9, 0.7)\n",
    "        print(verified)\n",
    "    # q눌러 종료\n",
    "    if cv2.waitKey(10) & 0xFF == ord('q'):\n",
    "        break\n",
    "cap.release()\n",
    "cv2.destroyAllWindows()"
   ]
  }
 ],
 "metadata": {
  "kernelspec": {
   "display_name": "tensorflow3.9.16",
   "language": "python",
   "name": "tensorflow3.9.16"
  },
  "language_info": {
   "codemirror_mode": {
    "name": "ipython",
    "version": 3
   },
   "file_extension": ".py",
   "mimetype": "text/x-python",
   "name": "python",
   "nbconvert_exporter": "python",
   "pygments_lexer": "ipython3",
   "version": "3.9.16"
  }
 },
 "nbformat": 4,
 "nbformat_minor": 5
}
